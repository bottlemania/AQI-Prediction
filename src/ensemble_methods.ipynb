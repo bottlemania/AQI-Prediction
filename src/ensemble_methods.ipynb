{
 "cells": [
  {
   "cell_type": "code",
   "execution_count": 1,
   "id": "2a278ee7",
   "metadata": {},
   "outputs": [],
   "source": [
    "import numpy as np\n",
    "from sklearn.ensemble import RandomForestRegressor"
   ]
  },
  {
   "cell_type": "code",
   "execution_count": 2,
   "id": "bb50b719",
   "metadata": {},
   "outputs": [],
   "source": [
    "common_dir=r\"D:\\Hemanth Engineering\\Assignments\\6th Sem\\Mini Proj\""
   ]
  },
  {
   "cell_type": "code",
   "execution_count": null,
   "id": "72965ee6",
   "metadata": {},
   "outputs": [],
   "source": []
  },
  {
   "cell_type": "code",
   "execution_count": 3,
   "id": "1afbb848",
   "metadata": {},
   "outputs": [
    {
     "ename": "FileNotFoundError",
     "evalue": "[Errno 2] No such file or directory: 'D:\\\\Hemanth Engineering\\\\Assignments\\\\6th Sem\\\\Mini Proj\\\\Research\\\\Data\\\\With Modifications\\\\X_train_scaled.npy'",
     "output_type": "error",
     "traceback": [
      "\u001b[1;31m---------------------------------------------------------------------------\u001b[0m",
      "\u001b[1;31mFileNotFoundError\u001b[0m                         Traceback (most recent call last)",
      "Cell \u001b[1;32mIn[3], line 1\u001b[0m\n\u001b[1;32m----> 1\u001b[0m X_train_scaled\u001b[38;5;241m=\u001b[39mnp\u001b[38;5;241m.\u001b[39mload(\u001b[38;5;124mfr\u001b[39m\u001b[38;5;124m\"\u001b[39m\u001b[38;5;132;01m{\u001b[39;00mcommon_dir\u001b[38;5;132;01m}\u001b[39;00m\u001b[38;5;124m\\\u001b[39m\u001b[38;5;124mResearch\u001b[39m\u001b[38;5;124m\\\u001b[39m\u001b[38;5;124mData\u001b[39m\u001b[38;5;124m\\\u001b[39m\u001b[38;5;124mWith Modifications\u001b[39m\u001b[38;5;124m\\\u001b[39m\u001b[38;5;124mX_train_scaled.npy\u001b[39m\u001b[38;5;124m\"\u001b[39m)\n\u001b[0;32m      2\u001b[0m X_test_scaled\u001b[38;5;241m=\u001b[39mnp\u001b[38;5;241m.\u001b[39mload(\u001b[38;5;124mfr\u001b[39m\u001b[38;5;124m\"\u001b[39m\u001b[38;5;132;01m{\u001b[39;00mcommon_dir\u001b[38;5;132;01m}\u001b[39;00m\u001b[38;5;124m\\\u001b[39m\u001b[38;5;124mResearch\u001b[39m\u001b[38;5;124m\\\u001b[39m\u001b[38;5;124mData\u001b[39m\u001b[38;5;124m\\\u001b[39m\u001b[38;5;124mWith Modifications\u001b[39m\u001b[38;5;124m\\\u001b[39m\u001b[38;5;124mX_test_scaled.npy\u001b[39m\u001b[38;5;124m\"\u001b[39m)\n\u001b[0;32m      3\u001b[0m X_train\u001b[38;5;241m=\u001b[39mnp\u001b[38;5;241m.\u001b[39mload(\u001b[38;5;124mfr\u001b[39m\u001b[38;5;124m\"\u001b[39m\u001b[38;5;132;01m{\u001b[39;00mcommon_dir\u001b[38;5;132;01m}\u001b[39;00m\u001b[38;5;124m\\\u001b[39m\u001b[38;5;124mResearch\u001b[39m\u001b[38;5;124m\\\u001b[39m\u001b[38;5;124mData\u001b[39m\u001b[38;5;124m\\\u001b[39m\u001b[38;5;124mWith Modifications\u001b[39m\u001b[38;5;124m\\\u001b[39m\u001b[38;5;124mx_train.npy\u001b[39m\u001b[38;5;124m\"\u001b[39m)\n",
      "File \u001b[1;32m~\\miniconda3\\Lib\\site-packages\\numpy\\lib\\npyio.py:427\u001b[0m, in \u001b[0;36mload\u001b[1;34m(file, mmap_mode, allow_pickle, fix_imports, encoding, max_header_size)\u001b[0m\n\u001b[0;32m    425\u001b[0m     own_fid \u001b[38;5;241m=\u001b[39m \u001b[38;5;28;01mFalse\u001b[39;00m\n\u001b[0;32m    426\u001b[0m \u001b[38;5;28;01melse\u001b[39;00m:\n\u001b[1;32m--> 427\u001b[0m     fid \u001b[38;5;241m=\u001b[39m stack\u001b[38;5;241m.\u001b[39menter_context(\u001b[38;5;28mopen\u001b[39m(os_fspath(file), \u001b[38;5;124m\"\u001b[39m\u001b[38;5;124mrb\u001b[39m\u001b[38;5;124m\"\u001b[39m))\n\u001b[0;32m    428\u001b[0m     own_fid \u001b[38;5;241m=\u001b[39m \u001b[38;5;28;01mTrue\u001b[39;00m\n\u001b[0;32m    430\u001b[0m \u001b[38;5;66;03m# Code to distinguish from NumPy binary files and pickles.\u001b[39;00m\n",
      "\u001b[1;31mFileNotFoundError\u001b[0m: [Errno 2] No such file or directory: 'D:\\\\Hemanth Engineering\\\\Assignments\\\\6th Sem\\\\Mini Proj\\\\Research\\\\Data\\\\With Modifications\\\\X_train_scaled.npy'"
     ]
    }
   ],
   "source": [
    "X_train_scaled=np.load(fr\"{common_dir}\\Research\\Data\\With Modifications\\X_train_scaled.npy\")\n",
    "X_test_scaled=np.load(fr\"{common_dir}\\Research\\Data\\With Modifications\\X_test_scaled.npy\")\n",
    "X_train=np.load(fr\"{common_dir}\\Research\\Data\\With Modifications\\x_train.npy\")\n",
    "X_test=np.load(fr\"{common_dir}\\Research\\Data\\With Modifications\\x_test.npy\")\n",
    "Y_test=np.load(fr\"{common_dir}\\Research\\Data\\With Modifications\\y_test.npy\")\n",
    "Y_train=np.load(fr\"{common_dir}\\Research\\Data\\With Modifications\\y_train.npy\")"
   ]
  },
  {
   "cell_type": "code",
   "execution_count": 20,
   "id": "d375044d",
   "metadata": {},
   "outputs": [
    {
     "data": {
      "text/plain": [
       "RandomForestRegressor(max_depth=15)"
      ]
     },
     "execution_count": 20,
     "metadata": {},
     "output_type": "execute_result"
    }
   ],
   "source": [
    "# creating model: # defined hyperparameters are 'max_depth': 15, 'max_features': 'auto', 'min_samples_leaf': 1, 'min_samples_split': 2, and 'n_estimators': 100.\n",
    "randFor = RandomForestRegressor(n_estimators=100,max_depth=15,max_features='auto',min_samples_leaf=1,min_samples_split=2)\n",
    "# Fitting the model\n",
    "randFor.fit(X_train,Y_train)"
   ]
  },
  {
   "cell_type": "code",
   "execution_count": 21,
   "id": "95946cc7",
   "metadata": {},
   "outputs": [
    {
     "data": {
      "text/plain": [
       "98.4699814378327"
      ]
     },
     "execution_count": 21,
     "metadata": {},
     "output_type": "execute_result"
    }
   ],
   "source": [
    "randFor.score(X_train,Y_train) * 100"
   ]
  },
  {
   "cell_type": "code",
   "execution_count": null,
   "id": "2ee42900",
   "metadata": {},
   "outputs": [],
   "source": [
    "# Predict on test set\n",
    "y_pred = randFor.predict(X_test)\n",
    "\n",
    "# Calculate mean squared error\n",
    "mse = mean_squared_error(y_test, y_pred)\n",
    "print(\"Mean Squared Error:\", mse)\n",
    "\n",
    "# Plotting the normal distribution of true values vs predicted values\n",
    "plt.figure(figsize=(10, 6))\n",
    "plt.hist(y_test, bins=20, density=True, alpha=0.5, color='blue', label='True Values')\n",
    "plt.hist(y_pred, bins=20, density=True, alpha=0.5, color='red', label='Predicted Values')\n",
    "xmin, xmax = plt.xlim()\n",
    "x = np.linspace(xmin, xmax, 100)\n",
    "p = norm.pdf(x, np.mean(y_pred), np.std(y_pred))\n",
    "plt.plot(x, p, 'k', linewidth=2)\n",
    "plt.xlabel('Value')\n",
    "plt.ylabel('Density')\n",
    "plt.title('True Values vs Predicted Values Distribution')\n",
    "plt.legend()\n",
    "plt.show()"
   ]
  },
  {
   "cell_type": "code",
   "execution_count": 17,
   "id": "889735ac",
   "metadata": {},
   "outputs": [],
   "source": []
  }
 ],
 "metadata": {
  "kernelspec": {
   "display_name": "Python 3 (ipykernel)",
   "language": "python",
   "name": "python3"
  },
  "language_info": {
   "codemirror_mode": {
    "name": "ipython",
    "version": 3
   },
   "file_extension": ".py",
   "mimetype": "text/x-python",
   "name": "python",
   "nbconvert_exporter": "python",
   "pygments_lexer": "ipython3",
   "version": "3.11.5"
  }
 },
 "nbformat": 4,
 "nbformat_minor": 5
}

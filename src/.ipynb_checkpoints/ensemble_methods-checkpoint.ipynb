{
 "cells": [
  {
   "cell_type": "code",
   "execution_count": 13,
   "id": "2a278ee7",
   "metadata": {},
   "outputs": [],
   "source": [
    "import numpy as np\n",
    "from sklearn.ensemble import RandomForestRegressor"
   ]
  },
  {
   "cell_type": "code",
   "execution_count": 14,
   "id": "bb50b719",
   "metadata": {},
   "outputs": [],
   "source": [
    "common_dir=r\"D:\\Hemanth Engineering\\Assignments\\6th Sem\\Mini Proj\""
   ]
  },
  {
   "cell_type": "code",
   "execution_count": null,
   "id": "72965ee6",
   "metadata": {},
   "outputs": [],
   "source": []
  },
  {
   "cell_type": "code",
   "execution_count": 15,
   "id": "1afbb848",
   "metadata": {},
   "outputs": [],
   "source": [
    "X_train_scaled=np.load(fr\"{common_dir}\\Research\\Data\\With Modifications\\X_train_scaled.npy\")\n",
    "X_test_scaled=np.load(fr\"{common_dir}\\Research\\Data\\With Modifications\\X_test_scaled.npy\")\n",
    "X_train=np.load(fr\"{common_dir}\\Research\\Data\\With Modifications\\x_train.npy\")\n",
    "X_test=np.load(fr\"{common_dir}\\Research\\Data\\With Modifications\\x_test.npy\")\n",
    "Y_test=np.load(fr\"{common_dir}\\Research\\Data\\With Modifications\\y_test.npy\")\n",
    "Y_train=np.load(fr\"{common_dir}\\Research\\Data\\With Modifications\\y_train.npy\")"
   ]
  },
  {
   "cell_type": "code",
   "execution_count": 20,
   "id": "d375044d",
   "metadata": {},
   "outputs": [
    {
     "data": {
      "text/plain": [
       "RandomForestRegressor(max_depth=15)"
      ]
     },
     "execution_count": 20,
     "metadata": {},
     "output_type": "execute_result"
    }
   ],
   "source": [
    "# creating model: # defined hyperparameters are 'max_depth': 15, 'max_features': 'auto', 'min_samples_leaf': 1, 'min_samples_split': 2, and 'n_estimators': 100.\n",
    "randFor = RandomForestRegressor(n_estimators=100,max_depth=15,max_features='auto',min_samples_leaf=1,min_samples_split=2)\n",
    "# Fitting the model\n",
    "randFor.fit(X_train,Y_train)"
   ]
  },
  {
   "cell_type": "code",
   "execution_count": 21,
   "id": "95946cc7",
   "metadata": {},
   "outputs": [
    {
     "data": {
      "text/plain": [
       "98.4699814378327"
      ]
     },
     "execution_count": 21,
     "metadata": {},
     "output_type": "execute_result"
    }
   ],
   "source": [
    "randFor.score(X_train,Y_train) * 100"
   ]
  },
  {
   "cell_type": "code",
   "execution_count": null,
   "id": "8e6dd879",
   "metadata": {},
   "outputs": [],
   "source": []
  },
  {
   "cell_type": "code",
   "execution_count": null,
   "id": "2ee42900",
   "metadata": {},
   "outputs": [],
   "source": []
  },
  {
   "cell_type": "code",
   "execution_count": 17,
   "id": "889735ac",
   "metadata": {},
   "outputs": [],
   "source": []
  }
 ],
 "metadata": {
  "kernelspec": {
   "display_name": "Python 3 (ipykernel)",
   "language": "python",
   "name": "python3"
  },
  "language_info": {
   "codemirror_mode": {
    "name": "ipython",
    "version": 3
   },
   "file_extension": ".py",
   "mimetype": "text/x-python",
   "name": "python",
   "nbconvert_exporter": "python",
   "pygments_lexer": "ipython3",
   "version": "3.11.5"
  }
 },
 "nbformat": 4,
 "nbformat_minor": 5
}
